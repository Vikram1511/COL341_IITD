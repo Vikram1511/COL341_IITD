{
 "cells": [
  {
   "cell_type": "code",
   "execution_count": 552,
   "metadata": {},
   "outputs": [],
   "source": [
    "import numpy as np \n",
    "import matplotlib.pyplot as plt\n",
    "import pandas as pd \n",
    "from pandas.api.types import is_string_dtype,is_numeric_dtype\n",
    "import operator\n",
    "import sys\n",
    "\n",
    "import json\n",
    "\n",
    "def preprocessing(train,test,valid):\n",
    "    m,n = train.shape\n",
    "    m_test = test.shape[0]\n",
    "    m_valid = valid.shape[0]\n",
    "    df = pd.concat([train,test,valid],axis=0)\n",
    "    df = regexOperation(df)\n",
    "    bins_age = pd.IntervalIndex.from_tuples([(0, 20), (20, 40), (40, 60),(60,150)])\n",
    "    bins_hours = pd.IntervalIndex.from_tuples([(0, 40), (40, 140)])\n",
    "    x = pd.cut(df['Age'].tolist(),bins_age)\n",
    "    x.categories = ['upto20','20to40','40to60','60above']\n",
    "    df['Age'] = x\n",
    "    df['Age'] = df['Age'].astype('str')\n",
    "    y = pd.cut(df['Hour per Week'].tolist(),bins_hours)\n",
    "    y.categories = ['less than 40','greater than 40']\n",
    "    df['Hour per Week'] = y\n",
    "    df['Hour per Week'] = df['Hour per Week'].astype('str')\n",
    "    df['Education Number']= df['Education Number'].where(df['Education Number']>12,'others')\n",
    "    df['Native Country']= df['Native Country'].where(df['Native Country']=='United-States','Not US')   \n",
    "    df.drop(['Education','Fnlwgt','Capital Gain','Capital Loss','Rich?'],axis=1,inplace=True)\n",
    "    print(df.shape)\n",
    "    return df.iloc[:m,:].astype('str'),df.iloc[m:m+m_test,:].astype('str'),df.iloc[m+m_test:,:].astype('str')\n",
    "\n",
    "def onehotEncoder(array,k_class,column_name,dict_map):\n",
    "\n",
    "    '''\n",
    "    @array -  encoded array\n",
    "    @k_class - number of unique classes in array\n",
    "    '''\n",
    "    #to ensure the type of input is one dimensional array\n",
    "    if(type(array)==list):\n",
    "        array = np.array(array)\n",
    "    assert len(array.shape)==1\n",
    "\n",
    "    #initializing (m,k_classes) dataframe as one hot encoded\n",
    "    onehotencoded = np.zeros((array.shape[0],k_class))\n",
    "    array = array.reshape((array.shape[0],))\n",
    "\n",
    "    #loop for each data point in array\n",
    "    for i in range(array.shape[0]):\n",
    "        onehotencoded[i,array[i]-1] = 1\n",
    "    onehotencoded = pd.DataFrame(onehotencoded,columns=[column_name+\".\"+dict_map[i][0] for i in range(len(dict_map))])\n",
    "\n",
    "    return onehotencoded\n",
    "\n",
    "def decode(array,mapping):\n",
    "\n",
    "    '''\n",
    "        @mapping- python dict where keys and values and encoded and true values respectively\n",
    "        @array - encoded array\n",
    "    '''\n",
    "    #convert to list type\n",
    "    array_list = array.tolist()\n",
    "    for i in range(array.shape[0]):\n",
    "        array_list[i] = mapping[array[i]-1]\n",
    "    return np.array(array_list)\n",
    "\n",
    "def print_tree(dtree):\n",
    "    tree_str = json.dumps(dtree, indent=4)\n",
    "    tree_str = tree_str.replace(\"\\n    \", \"\\n\")\n",
    "    tree_str = tree_str.replace('\"', \"\")\n",
    "    tree_str = tree_str.replace(',', \"\")\n",
    "    tree_str = tree_str.replace(\"{\", \"\")\n",
    "    tree_str = tree_str.replace(\"}\", \"\")\n",
    "    tree_str = tree_str.replace(\"    \", \" | \")\n",
    "    tree_str = tree_str.replace(\"  \", \" \")\n",
    "\n",
    "    print(tree_str)\n",
    "    \n",
    "def encoder(array,unique_classes):\n",
    "\n",
    "    '''\n",
    "        @array -  input categorical feature which is to be encoded \n",
    "        @unique_classes -  input list of unique classes in array\n",
    "    '''\n",
    "    array = array.reshape((array.shape[0],))\n",
    "\n",
    "    #initializing a ditionary to store mapping of true classes to encoded value\n",
    "    mapping={}\n",
    "    for i in range(len(unique_classes)):\n",
    "        mapping[unique_classes[i]]=i+1\n",
    "    \n",
    "    mapping_sortedlist = sorted(mapping.items(), key=operator.itemgetter(1))\n",
    "    #encoding\n",
    "    for j in range(array.shape[0]):\n",
    "        if(array[j] not in list(mapping.keys())):\n",
    "            array[j] = None\n",
    "        else:\n",
    "            array[j] = list(mapping.keys()).index(array[j])+1\n",
    "    #returning encoded array\n",
    "    return array.reshape((array.shape[0],)),mapping_sortedlist\n",
    "\n",
    "\n",
    "def regexOperation(data):\n",
    "    data.columns = data.columns.str.lstrip()\n",
    "    for col in data.columns:\n",
    "        if(is_string_dtype(data[col])):\n",
    "            data[col] = data[col].str.lstrip()\n",
    "    return data\n",
    "\n",
    "def read_inputs(df):\n",
    "    dataframe = df.copy()\n",
    "    #list of catergoircal columns\n",
    "    categorical_columns = [col for col in dataframe.columns if is_string_dtype(dataframe[col])]\n",
    "    \n",
    "    #list of numerical columns\n",
    "    numeric_columns =  [col for col in dataframe.columns if is_numeric_dtype(dataframe[col])]\n",
    "    \n",
    "    #list of unique lables for each categorical columns in dataframe\n",
    "    label_order = [list(dataframe[name].unique()) for name in categorical_columns]\n",
    "    \n",
    "\n",
    "    resultant_dataframe = dataframe\n",
    "    \n",
    "    for i,column in enumerate(categorical_columns):\n",
    "            uniquec = label_order[i]\n",
    "            feat= dataframe[column].values\n",
    "            arr,map_train = encoder(feat,uniquec)\n",
    "            cc = onehotEncoder(arr,len(uniquec),column,map_train)\n",
    "            resultant_dataframe=pd.concat([resultant_dataframe,cc],axis=1)\n",
    "            \n",
    "    resultant_dataframe.drop(categorical_columns,axis=1,inplace=True)\n",
    "                \n",
    "    #print(Y.shape)\n",
    "    X = dataframe\n",
    "    return resultant_dataframe.astype('uint8')\n",
    "\n",
    "\n",
    "class Node:\n",
    "    def __init__(self,feature=None,pos_examples=None,neg_examples=None):\n",
    "        self.pos_examples = pos_examples\n",
    "        self.neg_examples = neg_examples\n",
    "        self.feature = feature\n",
    "        self.label = None\n",
    "        self.leftchild=None \n",
    "        self.rightchild = None \n",
    "        self.parent = None\n",
    "\n",
    "    def set_leftchild(self,node):\n",
    "        self.leftchild = node\n",
    "        node.parent = self\n",
    "    \n",
    "    def set_rightchild(self,node):\n",
    "        self.rightchild =node\n",
    "        node.parent=self\n",
    "    \n",
    "    def get_rightchild(self):\n",
    "        return self.rightchild\n",
    "    \n",
    "    def get_leftchild(self):\n",
    "        return self.leftchild\n",
    "    \n",
    "\n",
    "\n",
    "class DecisionTree:\n",
    "    def __init__(self,trainx,trainy,max_depth,column_order_list,min_sample_leaf=None):\n",
    "        self.trainx = trainx\n",
    "        self.trainy = trainy\n",
    "        self.max_depth = max_depth\n",
    "        self.min_sample_leaf =min_sample_leaf\n",
    "        self.myTree = {}\n",
    "        self.ordered_column_name = column_order_list\n",
    "        self.isroot_set = False\n",
    "        self.root = None\n",
    "\n",
    "    def shannonEntropy(self,data):\n",
    "        '''\n",
    "        array of shape (m X n)\n",
    "        '''\n",
    "        data = data.copy()\n",
    "        entropy = 0\n",
    "        pos_data = data[data[:,-1]==1]\n",
    "        neg_data = data[data[:,-1]==0]\n",
    "        prob_pos = (pos_data.shape[0]/data.shape[0])\n",
    "        prob_neg = (neg_data.shape[0])/data.shape[0]\n",
    "        entropy = - prob_pos*np.log2(prob_pos+1e-6) - prob_neg*np.log2(prob_neg+1e-6) \n",
    "        return entropy\n",
    "    \n",
    "\n",
    "    def bestFeatureSelect(self,data):\n",
    "        data_copy = data.copy()\n",
    "        bestinfo_gain = 0\n",
    "        init_entropy = self.shannonEntropy(data_copy)\n",
    "        best_feat =-1\n",
    "        for feat in range(data_copy.shape[1]-1):\n",
    "            yes_response = data_copy[data_copy[:,feat]==1]\n",
    "            no_response = data_copy[data_copy[:,feat]==0]\n",
    "            if(yes_response.shape[0]>0  and no_response.shape[0]>0 ):\n",
    "                entropy_yes = self.shannonEntropy(yes_response)\n",
    "                entropy_no = self.shannonEntropy(no_response)\n",
    "\n",
    "                prob_yes = float(yes_response.shape[0]/data_copy.shape[0])\n",
    "                prob_no = float(no_response.shape[0]/data_copy.shape[0])\n",
    "                info_gain= init_entropy -float(prob_yes*(entropy_yes))-float(prob_no*(entropy_no))\n",
    "\n",
    "                if(info_gain > bestinfo_gain):\n",
    "                    bestinfo_gain = info_gain\n",
    "                    best_feat= feat\n",
    "        return best_feat\n",
    "    \n",
    "\n",
    "    def majority_count(self,data):\n",
    "        data = data.copy()\n",
    "        pos = data[data[:,-1]==1].shape[0]\n",
    "        neg = data[data[:,-1]==0].shape[0]\n",
    "        if(pos>neg):\n",
    "            return 1\n",
    "        else:\n",
    "            return 0\n",
    "    \n",
    "    def create_decision_tree(self,data,column_list):\n",
    "        pos_exp = data[data[:,-1]==1].shape[0]\n",
    "        neg_exp = data[data[:,-1]==0].shape[0]\n",
    "        if(data.shape[1]==2 or data.shape[0]<self.min_sample_leaf):\n",
    "            node = Node(pos_examples=pos_exp,neg_examples=neg_exp)\n",
    "            label = self.majority_count(data)\n",
    "            node.label = label\n",
    "            return label,node\n",
    "        \n",
    "        if(len(np.unique(data[:,-1]))==1):\n",
    "            node=Node(pos_examples=pos_exp,neg_examples=neg_exp)\n",
    "            label = data[0,-1]\n",
    "            node.label = label\n",
    "            return label,node\n",
    "        \n",
    "        best_feat = self.bestFeatureSelect(data)\n",
    "\n",
    "        right_split = data[data[:,best_feat]==1]\n",
    "        right_split = np.hstack((right_split[:,:best_feat],right_split[:,best_feat+1:]))\n",
    "        left_split = data[data[:,best_feat]==0]\n",
    "        left_split = np.hstack((left_split[:,:best_feat],left_split[:,best_feat+1:]))\n",
    "\n",
    "        column_name = column_list[best_feat]\n",
    "        if(self.isroot_set==False):\n",
    "            node = Node(column_name)\n",
    "            self.root = node\n",
    "            self.isroot_set = True\n",
    "        else:\n",
    "            node = Node(column_name)\n",
    "        node.pos_examples = pos_exp\n",
    "        node.neg_examples = neg_exp\n",
    "\n",
    "        column_list = column_list[:best_feat]+column_list[best_feat+1:]\n",
    "\n",
    "        myTree_branch = {column_name+\"_0\":{},column_name+\"_1\":{}}\n",
    "\n",
    "        myTree_branch[column_name+\"_0\"],leftchild = self.create_decision_tree(left_split,column_list) \n",
    "        node.set_leftchild(leftchild)\n",
    "        myTree_branch[column_name+\"_1\"],rightchild = self.create_decision_tree(right_split,column_list)\n",
    "        node.set_rightchild(rightchild)\n",
    "        return myTree_branch,node\n",
    "    \n",
    "\n",
    "    def get_label(self,feat_vector):\n",
    "        curr_node = self.root\n",
    "        while(curr_node!=None):\n",
    "            feat_splitted = curr_node.feature\n",
    "            if(feat_splitted is not None):\n",
    "\n",
    "                feat_index = self.ordered_column_name.index(feat_splitted)\n",
    "                parent_node = curr_node\n",
    "                if(feat_vector[0,feat_index]==0):\n",
    "                    curr_node = curr_node.leftchild\n",
    "                else:\n",
    "                    curr_node = curr_node.rightchild\n",
    "                \n",
    "                if(curr_node==None):\n",
    "                    if(parent_node.label!=None):\n",
    "                        return parent_node.label\n",
    "                    else:\n",
    "                        if(parent_node.pos_examples>=parent_node.neg_examples):\n",
    "                            return 1\n",
    "                        else:\n",
    "                            return 0\n",
    "            else:\n",
    "                    if(curr_node.label!=None):\n",
    "                        return curr_node.label\n",
    "                    else:\n",
    "                        if(curr_node.pos_examples>=curr_node.neg_examples):\n",
    "                            return 1\n",
    "                        else:\n",
    "                            return 0\n",
    "\n",
    "        return -1\n",
    "\n",
    "    def predict(self,X):\n",
    "        prediction = []\n",
    "        for i in range(X.shape[0]):\n",
    "            curr_feat_vector = X[i,:].reshape((1,X.shape[1]))\n",
    "            label = self.get_label(curr_feat_vector)\n",
    "            prediction.append(label)\n",
    "        return prediction\n",
    "\n"
   ]
  },
  {
   "cell_type": "code",
   "execution_count": 553,
   "metadata": {},
   "outputs": [
    {
     "name": "stdout",
     "output_type": "stream",
     "text": [
      "(33000, 10)\n"
     ]
    }
   ],
   "source": [
    "train_file = \"train.csv\"\n",
    "valid_file = \"valid.csv\"\n",
    "test_file = \"test_public.csv\"\n",
    "valid_pred_file = \"valid_pred.txt\"\n",
    "test_pred_file = \"test_pred.txt\"\n",
    "\n",
    "\n",
    "train_df = pd.read_csv(train_file)\n",
    "testdf = pd.read_csv(test_file)\n",
    "valid_df = pd.read_csv(valid_file)\n",
    "\n",
    "trainy = train_df[\" Rich?\"].values.reshape((train_df.shape[0],1))\n",
    "\n",
    "train,test,valid = preprocessing(train_df,testdf,valid_df)\n",
    "trainx = read_inputs(train)\n",
    "testx = read_inputs(test)\n",
    "validx = read_inputs(valid)\n",
    "\n",
    "cols = list(trainx.columns)\n",
    "trainx = trainx.values\n",
    "testx = testx.values\n",
    "validx = validx.values\n",
    "\n",
    "\n",
    "dt = DecisionTree(trainx,trainy,5,cols,min_sample_leaf=10)\n",
    "\n",
    "train  = np.hstack((trainx,trainy))\n",
    "dtree,node = dt.create_decision_tree(train,cols)"
   ]
  },
  {
   "cell_type": "code",
   "execution_count": 555,
   "metadata": {},
   "outputs": [],
   "source": [
    "pred_test = dt.predict(testx)\n",
    "pred_val = dt.predict(validx)\n",
    "# accuracy = [1 if x==y else 0 for (x,y) in zip(pred,valy)]\n",
    "# acc = sum(accuracy)/float(len(accuracy))\n",
    "# print(acc)\n",
    "with open(test_pred_file,\"w\") as f:\n",
    "   f.write(\"\\n\".join(str(x) for x in pred_test))\n",
    "\n",
    "with open(valid_pred_file,\"w\") as f:\n",
    "   f.write(\"\\n\".join(str(x) for x in pred_val))"
   ]
  },
  {
   "cell_type": "code",
   "execution_count": 558,
   "metadata": {},
   "outputs": [],
   "source": [
    "from sklearn.tree import DecisionTreeClassifier\n",
    "tree = DecisionTreeClassifier(random_state=0)"
   ]
  },
  {
   "cell_type": "code",
   "execution_count": 559,
   "metadata": {},
   "outputs": [
    {
     "data": {
      "text/plain": [
       "DecisionTreeClassifier(class_weight=None, criterion='gini', max_depth=None,\n",
       "                       max_features=None, max_leaf_nodes=None,\n",
       "                       min_impurity_decrease=0.0, min_impurity_split=None,\n",
       "                       min_samples_leaf=1, min_samples_split=2,\n",
       "                       min_weight_fraction_leaf=0.0, presort=False,\n",
       "                       random_state=0, splitter='best')"
      ]
     },
     "execution_count": 559,
     "metadata": {},
     "output_type": "execute_result"
    }
   ],
   "source": [
    "tree.fit(trainx,trainy)"
   ]
  },
  {
   "cell_type": "code",
   "execution_count": 560,
   "metadata": {},
   "outputs": [
    {
     "data": {
      "text/plain": [
       "array([0, 1, 1, ..., 0, 0, 0], dtype=int64)"
      ]
     },
     "execution_count": 560,
     "metadata": {},
     "output_type": "execute_result"
    }
   ],
   "source": [
    "tree.predict(testx)"
   ]
  },
  {
   "cell_type": "code",
   "execution_count": 367,
   "metadata": {},
   "outputs": [],
   "source": [
    "df_copy = df.copy()"
   ]
  },
  {
   "cell_type": "code",
   "execution_count": 409,
   "metadata": {},
   "outputs": [
    {
     "name": "stdout",
     "output_type": "stream",
     "text": [
      "Age 4\n",
      "Work Class 7\n",
      "Fnlwgt 20211\n",
      "Education Number 5\n",
      "Marital Status 7\n",
      "Occupation 14\n",
      "Relationship 6\n",
      "Race 5\n",
      "Sex 2\n",
      "Capital Gain 118\n",
      "Capital Loss 91\n",
      "Hour per Week 94\n",
      "Native Country 2\n",
      "Rich? 3\n"
     ]
    }
   ],
   "source": [
    "for col in df.columns:\n",
    "    print(col,len(df[col].unique()))"
   ]
  },
  {
   "cell_type": "code",
   "execution_count": 408,
   "metadata": {},
   "outputs": [],
   "source": [
    "df.drop('Education',axis=1,inplace=True)"
   ]
  },
  {
   "cell_type": "code",
   "execution_count": 421,
   "metadata": {},
   "outputs": [
    {
     "data": {
      "text/plain": [
       "<seaborn.axisgrid.FacetGrid at 0x28d1e1d0>"
      ]
     },
     "execution_count": 421,
     "metadata": {},
     "output_type": "execute_result"
    },
    {
     "data": {
      "image/png": "[encoded data removed]",
      "text/plain": [
       "<Figure size 360x360 with 1 Axes>"
      ]
     },
     "metadata": {
      "needs_background": "light"
     },
     "output_type": "display_data"
    }
   ],
   "source": [
    "import seaborn as sns\n",
    "sns.catplot(x = 'Rich?',y='Capital Loss',data=df,kind='violin')"
   ]
  },
  {
   "cell_type": "code",
   "execution_count": 415,
   "metadata": {},
   "outputs": [
    {
     "data": {
      "text/plain": [
       "count    3.000000e+04\n",
       "mean     1.896966e+05\n",
       "std      1.050067e+05\n",
       "min      1.376900e+04\n",
       "25%      1.176468e+05\n",
       "50%      1.786860e+05\n",
       "75%      2.376560e+05\n",
       "max      1.484705e+06\n",
       "Name: Fnlwgt, dtype: float64"
      ]
     },
     "execution_count": 415,
     "metadata": {},
     "output_type": "execute_result"
    }
   ],
   "source": [
    "df['Fnlwgt'].describe()"
   ]
  },
  {
   "cell_type": "code",
   "execution_count": 387,
   "metadata": {},
   "outputs": [],
   "source": [
    "bins = pd.IntervalIndex.from_tuples([(0, 20), (20, 40), (40, 60),(60,150)])"
   ]
  },
  {
   "cell_type": "code",
   "execution_count": 392,
   "metadata": {},
   "outputs": [],
   "source": [
    "df['Age'] = pd.cut(df['Age'],bins,labels=['upto20','20to40','40to60','60above'])"
   ]
  },
  {
   "cell_type": "code",
   "execution_count": 400,
   "metadata": {},
   "outputs": [
    {
     "data": {
      "text/plain": [
       "<matplotlib.axes._subplots.AxesSubplot at 0x2af37c70>"
      ]
     },
     "execution_count": 400,
     "metadata": {},
     "output_type": "execute_result"
    },
    {
     "data": {
      "image/png": "[encoded data removed]",
      "text/plain": [
       "<Figure size 1800x720 with 1 Axes>"
      ]
     },
     "metadata": {
      "needs_background": "light"
     },
     "output_type": "display_data"
    }
   ],
   "source": [
    "plt.figure(figsize=(25,10))\n",
    "sns.countplot(df['Education'],hue=df['Rich?'])"
   ]
  },
  {
   "cell_type": "code",
   "execution_count": 404,
   "metadata": {},
   "outputs": [],
   "source": [
    "df['Education Number']= df['Education Number'].where(df['Education Number']>12,'others')"
   ]
  },
  {
   "cell_type": "code",
   "execution_count": 375,
   "metadata": {},
   "outputs": [],
   "source": [
    "# df['Native Country']= df['Native Country'].where(df['Native Country']=='United-States','Not US')   "
   ]
  },
  {
   "cell_type": "code",
   "execution_count": 377,
   "metadata": {},
   "outputs": [
    {
     "data": {
      "text/plain": [
       "United-States    27370\n",
       "Not US            2630\n",
       "Name: Native Country, dtype: int64"
      ]
     },
     "execution_count": 377,
     "metadata": {},
     "output_type": "execute_result"
    }
   ],
   "source": [
    "df['Native Country'].value_counts()"
   ]
  },
  {
   "cell_type": "code",
   "execution_count": 338,
   "metadata": {},
   "outputs": [
    {
     "data": {
      "text/plain": [
       "<matplotlib.axes._subplots.AxesSubplot at 0x298b5670>"
      ]
     },
     "execution_count": 338,
     "metadata": {},
     "output_type": "execute_result"
    },
    {
     "data": {
      "image/png": "[encoded data removed]",
      "text/plain": [
       "<Figure size 432x288 with 1 Axes>"
      ]
     },
     "metadata": {
      "needs_background": "light"
     },
     "output_type": "display_data"
    }
   ],
   "source": [
    "sns.scatterplot(y='Capital Gain',x='Capital Loss',hue='Rich?',data=df)"
   ]
  },
  {
   "cell_type": "code",
   "execution_count": 345,
   "metadata": {},
   "outputs": [
    {
     "data": {
      "text/plain": [
       "count    30000.000000\n",
       "mean        40.911000\n",
       "std         11.952633\n",
       "min          1.000000\n",
       "25%         40.000000\n",
       "50%         40.000000\n",
       "75%         45.000000\n",
       "max         99.000000\n",
       "Name: Hour per Week, dtype: float64"
      ]
     },
     "execution_count": 345,
     "metadata": {},
     "output_type": "execute_result"
    }
   ],
   "source": [
    "df['Hour per Week'].describe()"
   ]
  },
  {
   "cell_type": "code",
   "execution_count": 405,
   "metadata": {},
   "outputs": [],
   "source": [
    "categorical_columns = [col for col in df.columns if is_string_dtype(df[col])]\n",
    "numeric_columns = [col for col in df.columns if is_numeric_dtype(df[col])]\n",
    "dict ={}\n",
    "for col in categorical_columns:\n",
    "    dict[col]=df[col].unique()"
   ]
  },
  {
   "cell_type": "code",
   "execution_count": 406,
   "metadata": {},
   "outputs": [
    {
     "data": {
      "text/plain": [
       "(['Age',\n",
       "  'Work Class',\n",
       "  'Education',\n",
       "  'Education Number',\n",
       "  'Marital Status',\n",
       "  'Occupation',\n",
       "  'Relationship',\n",
       "  'Race',\n",
       "  'Sex',\n",
       "  'Native Country'],\n",
       " ['Fnlwgt', 'Capital Gain', 'Capital Loss', 'Hour per Week', 'Rich?'])"
      ]
     },
     "execution_count": 406,
     "metadata": {},
     "output_type": "execute_result"
    }
   ],
   "source": [
    "categorical_columns,numeric_columns"
   ]
  },
  {
   "cell_type": "code",
   "execution_count": 419,
   "metadata": {},
   "outputs": [],
   "source": [
    "def preprocessing(df):\n",
    "    bins_age = pd.IntervalIndex.from_tuples([(0, 20), (20, 40), (40, 60),(60,150)])\n",
    "    bins_hours = pd.IntervalIndex.from_tuples([(0, 40), (40, 140)])\n",
    "    df['Age'] = pd.cut(df['Age'],bins_age,labels=['upto20','20to40','40to60','60above'])\n",
    "    df['Hour per Week'] = pd.cut(df['Hour per Week'],bins_hours)\n",
    "    df['Education Number']= df['Education Number'].where(df['Education Number']>12,'others')\n",
    "    df['Native Country']= df['Native Country'].where(df['Native Country']=='United-States','Not US')   \n",
    "    df.drop(['Education','Fnlwgt','Capital Gain','Capital Loss'],axis=1,inplace=True)\n",
    "    \n",
    "    return df"
   ]
  },
  {
   "cell_type": "code",
   "execution_count": null,
   "metadata": {},
   "outputs": [],
   "source": []
  }
 ],
 "metadata": {
  "kernelspec": {
   "display_name": "Python 3",
   "language": "python",
   "name": "python3"
  },
  "language_info": {
   "codemirror_mode": {
    "name": "ipython",
    "version": 3
   },
   "file_extension": ".py",
   "mimetype": "text/x-python",
   "name": "python",
   "nbconvert_exporter": "python",
   "pygments_lexer": "ipython3",
   "version": "3.7.3"
  }
 },
 "nbformat": 4,
 "nbformat_minor": 2
}
